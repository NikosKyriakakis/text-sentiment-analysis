{
 "cells": [
  {
   "cell_type": "code",
   "execution_count": 1,
   "metadata": {},
   "outputs": [
    {
     "name": "stderr",
     "output_type": "stream",
     "text": [
      "/home/nik/.local/lib/python3.8/site-packages/tqdm/auto.py:22: TqdmWarning: IProgress not found. Please update jupyter and ipywidgets. See https://ipywidgets.readthedocs.io/en/stable/user_install.html\n",
      "  from .autonotebook import tqdm as notebook_tqdm\n",
      "Matplotlib created a temporary config/cache directory at /tmp/matplotlib-_q2ftbrl because the default path (/home/nik/.cache/matplotlib) is not a writable directory; it is highly recommended to set the MPLCONFIGDIR environment variable to a writable directory, in particular to speed up the import of Matplotlib and to better support multiprocessing.\n"
     ]
    }
   ],
   "source": [
    "from argparse import Namespace\n",
    "\n",
    "from classifier import *\n",
    "from dataset import *\n",
    "from vectorizer import *\n",
    "\n",
    "import torch"
   ]
  },
  {
   "cell_type": "markdown",
   "metadata": {},
   "source": [
    "## Namespace\n",
    "Here we use a namespace to aggregate all runtime parameters and easily adjust them later on"
   ]
  },
  {
   "cell_type": "code",
   "execution_count": 2,
   "metadata": {},
   "outputs": [],
   "source": [
    "def use_cuda():\n",
    "    return torch.device(\"cuda\" if torch.cuda.is_available() else \"cpu\")\n",
    "\n",
    "args = Namespace (\n",
    "    in_features=None,\n",
    "    out_units=1,\n",
    "    dataset=None,\n",
    "    optimizer=\"Adam\",\n",
    "    criterion=\"bce_logits\",\n",
    "    batch_size=128,\n",
    "    learning_rate=0.001,\n",
    "    num_epochs=5,\n",
    "    device=use_cuda(),\n",
    "    embed_dim=300,\n",
    "    freeze_embedding=False,\n",
    "    filter_sizes=[3, 4, 5],\n",
    "    num_filters=[100, 100, 100],\n",
    "    pretrained_embedding=None, \n",
    "    hidden_size=2, # number of features in hidden state\n",
    "    num_layers=1, # number of stacked lstm layers,\n",
    "    save_state_path=\"../checkpoints\",\n",
    "    save_best_path=\"../best_models\",\n",
    "    name=\"\"\n",
    ")"
   ]
  },
  {
   "cell_type": "markdown",
   "metadata": {},
   "source": [
    "Load the tweets products dataset"
   ]
  },
  {
   "cell_type": "code",
   "execution_count": 3,
   "metadata": {},
   "outputs": [
    {
     "name": "stderr",
     "output_type": "stream",
     "text": [
      "[nltk_data] Downloading package stopwords to /home/nik/nltk_data...\n",
      "[nltk_data]   Package stopwords is already up-to-date!\n"
     ]
    }
   ],
   "source": [
    "args.dataset = TextDataset.load_dataset_and_make_vectorizer(\"../data/tweets_products.csv\")\n",
    "args.in_features = args.dataset.vectorizer.max_padding\n",
    "args.name = \"BOW-Classifier.pth\""
   ]
  },
  {
   "cell_type": "markdown",
   "metadata": {},
   "source": [
    "### Bag of Words Classifier\n",
    "\n",
    "Initialize a simple neural network which utilizes a bag of words approach to representing the encoded text. "
   ]
  },
  {
   "cell_type": "code",
   "execution_count": 4,
   "metadata": {},
   "outputs": [
    {
     "name": "stderr",
     "output_type": "stream",
     "text": [
      "  0%|          | 0/5 [00:00<?, ?it/s]"
     ]
    }
   ],
   "source": [
    "bow = BOWClassifier(args=args)\n",
    "bow.setup()\n",
    "bow.fit()"
   ]
  },
  {
   "cell_type": "code",
   "execution_count": null,
   "metadata": {},
   "outputs": [],
   "source": [
    "bow.plot_logs(\"Accuracy\", [\"Train Accuracy\", \"Validation Accuracy\"])"
   ]
  },
  {
   "cell_type": "code",
   "execution_count": null,
   "metadata": {},
   "outputs": [],
   "source": [
    "bow.plot_logs(\"Loss\", [\"Train Loss\", \"Validation Loss\"])"
   ]
  },
  {
   "cell_type": "code",
   "execution_count": null,
   "metadata": {},
   "outputs": [],
   "source": [
    "bow.plot_logs(\"F1\", [\"Train F1-Score\", \"Validation F1-Score\"])"
   ]
  },
  {
   "cell_type": "markdown",
   "metadata": {},
   "source": [
    "Evaluate the the bag of words classifier on the tweets products dataset."
   ]
  },
  {
   "cell_type": "code",
   "execution_count": null,
   "metadata": {},
   "outputs": [],
   "source": [
    "bow.load_state()\n",
    "loss, acc, f1 = bow.eval_net(mode='test')\n",
    "print(loss)\n",
    "print(acc)\n",
    "print(f1)"
   ]
  },
  {
   "cell_type": "markdown",
   "metadata": {},
   "source": [
    "Now we load the IMDB dataset and test the above model on that. \n",
    "We observed a significant drop in the performance of the model as it can be seen from the output of the current cell."
   ]
  },
  {
   "cell_type": "code",
   "execution_count": null,
   "metadata": {},
   "outputs": [],
   "source": [
    "args.dataset = TextDataset.load_dataset_and_make_vectorizer(\"../data/IMDB-dataset.csv\")\n",
    "loss, acc, f1 = bow.eval_net(mode='test')\n",
    "print(loss)\n",
    "print(acc)\n",
    "print(f1)"
   ]
  },
  {
   "cell_type": "markdown",
   "metadata": {},
   "source": [
    "In the next experiments we would like to evaluate the performance of the convolutional neural network on the previous scenario."
   ]
  },
  {
   "cell_type": "code",
   "execution_count": null,
   "metadata": {},
   "outputs": [],
   "source": [
    "args.dataset = TextDataset.load_dataset_and_make_vectorizer(\"../data/tweets_products.csv\", vectorizer_mode=\"padded\")\n",
    "args.pretrained_embedding = args.dataset.vectorizer.load_pretrained_embed(\"../data/crawl-300d-2M.vec\")\n",
    "args.name = \"CNN-Classifier.pth\""
   ]
  },
  {
   "cell_type": "markdown",
   "metadata": {},
   "source": [
    "### Convolutional Neural Network\n",
    "\n",
    "Setup a CNN classifier, train and validate the network on the tweets products dataset."
   ]
  },
  {
   "cell_type": "code",
   "execution_count": null,
   "metadata": {},
   "outputs": [],
   "source": [
    "cnn_classifier = CNNClassifier(args=args)\n",
    "cnn_classifier.setup()\n",
    "cnn_classifier.fit()"
   ]
  },
  {
   "cell_type": "code",
   "execution_count": null,
   "metadata": {},
   "outputs": [],
   "source": [
    "cnn_classifier.plot_logs(\"Accuracy\", [\"Train Accuracy\", \"Validation Accuracy\"])"
   ]
  },
  {
   "cell_type": "code",
   "execution_count": null,
   "metadata": {},
   "outputs": [],
   "source": [
    "cnn_classifier.plot_logs(\"Loss\", [\"Train Loss\", \"Validation Loss\"])"
   ]
  },
  {
   "cell_type": "code",
   "execution_count": null,
   "metadata": {},
   "outputs": [],
   "source": [
    "cnn_classifier.plot_logs(\"F1\", [\"Train F1-Score\", \"Validation F1-Score\"])"
   ]
  },
  {
   "cell_type": "markdown",
   "metadata": {},
   "source": [
    "Test CNN on the tweets test set"
   ]
  },
  {
   "cell_type": "code",
   "execution_count": null,
   "metadata": {},
   "outputs": [],
   "source": [
    "cnn_classifier.load_state()\n",
    "loss, acc, f1 = cnn_classifier.eval_net(mode='test')\n",
    "print(loss)\n",
    "print(acc)\n",
    "print(f1)"
   ]
  },
  {
   "cell_type": "markdown",
   "metadata": {},
   "source": [
    "Evaluate CNN's performance on the IMDB dataset. Again there is decrease on the new test set, although not as significant as in the previous case."
   ]
  },
  {
   "cell_type": "code",
   "execution_count": null,
   "metadata": {},
   "outputs": [],
   "source": [
    "args.dataset = TextDataset.load_dataset_and_make_vectorizer(\"../data/IMDB-dataset.csv\", vectorizer_mode=\"padded\")\n",
    "embedding = args.dataset.vectorizer.load_pretrained_embed(\"../data/crawl-300d-2M.vec\")\n",
    "embedding = embedding.to(args.device)\n",
    "cnn_classifier.embedding = nn.Embedding.from_pretrained (\n",
    "    embedding,\n",
    "    freeze=args.freeze_embedding\n",
    ")\n",
    "loss, acc, f1 = cnn_classifier.eval_net(mode='test')\n",
    "print(loss)\n",
    "print(acc)\n",
    "print(f1)"
   ]
  },
  {
   "cell_type": "markdown",
   "metadata": {},
   "source": [
    "### LSTM\n",
    "\n",
    "Use a Long Short-Term Memory network for the previous configuration"
   ]
  },
  {
   "cell_type": "code",
   "execution_count": null,
   "metadata": {},
   "outputs": [],
   "source": [
    "args.dataset = TextDataset.load_dataset_and_make_vectorizer(\"../data/tweets_products.csv\", vectorizer_mode=\"padded\")\n",
    "args.pretrained_embedding = args.dataset.vectorizer.load_pretrained_embed(\"../data/crawl-300d-2M.vec\")\n",
    "args.name = \"LSTM-Classifier.pth\""
   ]
  },
  {
   "cell_type": "code",
   "execution_count": null,
   "metadata": {},
   "outputs": [],
   "source": [
    "lstm_classifier = LSTMClassifier(args)\n",
    "lstm_classifier.setup()\n",
    "lstm_classifier.fit()"
   ]
  },
  {
   "cell_type": "code",
   "execution_count": null,
   "metadata": {},
   "outputs": [],
   "source": [
    "lstm_classifier.plot_logs(\"Accuracy\", [\"Train Accuracy\", \"Validation Accuracy\"])"
   ]
  },
  {
   "cell_type": "code",
   "execution_count": null,
   "metadata": {},
   "outputs": [],
   "source": [
    "lstm_classifier.plot_logs(\"Loss\", [\"Train Loss\", \"Validation Loss\"])"
   ]
  },
  {
   "cell_type": "code",
   "execution_count": null,
   "metadata": {},
   "outputs": [],
   "source": [
    "lstm_classifier.plot_logs(\"F1\", [\"Train F1-Score\", \"Validation F1-Score\"])"
   ]
  },
  {
   "cell_type": "code",
   "execution_count": null,
   "metadata": {},
   "outputs": [],
   "source": [
    "lstm_classifier.load_state()\n",
    "loss, acc, f1 = lstm_classifier.eval_net(mode='test')\n",
    "print(loss)\n",
    "print(acc)\n",
    "print(f1)"
   ]
  },
  {
   "cell_type": "code",
   "execution_count": null,
   "metadata": {},
   "outputs": [],
   "source": [
    "args.dataset = TextDataset.load_dataset_and_make_vectorizer(\"../data/IMDB-dataset.csv\", vectorizer_mode=\"padded\")\n",
    "embedding = args.dataset.vectorizer.load_pretrained_embed(\"../data/crawl-300d-2M.vec\")\n",
    "embedding = embedding.to(args.device)\n",
    "lstm_classifier.embedding = nn.Embedding.from_pretrained (\n",
    "    embedding,\n",
    "    freeze=args.freeze_embedding\n",
    ")"
   ]
  },
  {
   "cell_type": "code",
   "execution_count": null,
   "metadata": {},
   "outputs": [],
   "source": [
    "loss, acc, f1 = lstm_classifier.eval_net(mode='test')\n",
    "print(loss)\n",
    "print(acc)\n",
    "print(f1)"
   ]
  }
 ],
 "metadata": {
  "interpreter": {
   "hash": "916dbcbb3f70747c44a77c7bcd40155683ae19c65e1c03b4aa3499c5328201f1"
  },
  "kernelspec": {
   "display_name": "Python 3.8.10 64-bit",
   "language": "python",
   "name": "python3"
  },
  "language_info": {
   "codemirror_mode": {
    "name": "ipython",
    "version": 3
   },
   "file_extension": ".py",
   "mimetype": "text/x-python",
   "name": "python",
   "nbconvert_exporter": "python",
   "pygments_lexer": "ipython3",
   "version": "3.8.10"
  },
  "orig_nbformat": 4
 },
 "nbformat": 4,
 "nbformat_minor": 2
}
